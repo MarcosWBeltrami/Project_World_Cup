{
  "nbformat": 4,
  "nbformat_minor": 0,
  "metadata": {
    "colab": {
      "provenance": [],
      "collapsed_sections": [],
      "authorship_tag": "ABX9TyOODIm8Lny4beNpyid+mH9x",
      "include_colab_link": true
    },
    "kernelspec": {
      "name": "python3",
      "display_name": "Python 3"
    },
    "language_info": {
      "name": "python"
    }
  },
  "cells": [
    {
      "cell_type": "markdown",
      "metadata": {
        "id": "view-in-github",
        "colab_type": "text"
      },
      "source": [
        "<a href=\"https://colab.research.google.com/github/MarcosWBeltrami/Project_World_Cup/blob/main/Project_World_Cup.ipynb\" target=\"_parent\"><img src=\"https://colab.research.google.com/assets/colab-badge.svg\" alt=\"Open In Colab\"/></a>"
      ]
    },
    {
      "cell_type": "markdown",
      "source": [
        "# Project World Cup\n",
        "### The idea is to conduct a simulation of the World Cup based on the FIFA ranking and taking into account the motivation of the selection."
      ],
      "metadata": {
        "id": "bGv35yyIHvke"
      }
    },
    {
      "cell_type": "markdown",
      "source": [
        "## 1- Imports of selections and their ranking"
      ],
      "metadata": {
        "id": "bz1CDcw5Jx_b"
      }
    },
    {
      "cell_type": "code",
      "execution_count": 796,
      "metadata": {
        "id": "yBDpdCYrTXnI",
        "colab": {
          "base_uri": "https://localhost:8080/",
          "height": 175
        },
        "outputId": "006a5c08-a29e-46c3-8306-d3481bcd2f81"
      },
      "outputs": [
        {
          "output_type": "execute_result",
          "data": {
            "text/plain": [
              "            A           B           C           D           E           F  \\\n",
              "0  CAT|1442.0  EUA|1635.0  ARG|1770.7  AUS|1483.7  ALE|1659.0  BEL|1821.9   \n",
              "1  EQU|1463.7  ING|1737.5  ARA|1435.7  DIN|1665.5  COS|1500.1  CAN|1473.8   \n",
              "2  HOL|1679.4  IRA|1558.6  MEX|1649.6  FRA|1764.9  ESP|1716.9  CRO|1632.2   \n",
              "3  SEN|1584.6  GAL|1582.1  POL|1546.2  TUN|1507.9  JAP|1554.7  MAR|1558.4   \n",
              "\n",
              "            G           H  \n",
              "0  BRA|1837.6  COR|1526.0  \n",
              "1  CAM|1485.0  GAN|1393.5  \n",
              "2  SUI|1621.4  POR|1678.7  \n",
              "3  SER|1549.5  URU|1641.0  "
            ],
            "text/html": [
              "\n",
              "  <div id=\"df-d3afe787-6298-450e-af1f-bd566af7f965\">\n",
              "    <div class=\"colab-df-container\">\n",
              "      <div>\n",
              "<style scoped>\n",
              "    .dataframe tbody tr th:only-of-type {\n",
              "        vertical-align: middle;\n",
              "    }\n",
              "\n",
              "    .dataframe tbody tr th {\n",
              "        vertical-align: top;\n",
              "    }\n",
              "\n",
              "    .dataframe thead th {\n",
              "        text-align: right;\n",
              "    }\n",
              "</style>\n",
              "<table border=\"1\" class=\"dataframe\">\n",
              "  <thead>\n",
              "    <tr style=\"text-align: right;\">\n",
              "      <th></th>\n",
              "      <th>A</th>\n",
              "      <th>B</th>\n",
              "      <th>C</th>\n",
              "      <th>D</th>\n",
              "      <th>E</th>\n",
              "      <th>F</th>\n",
              "      <th>G</th>\n",
              "      <th>H</th>\n",
              "    </tr>\n",
              "  </thead>\n",
              "  <tbody>\n",
              "    <tr>\n",
              "      <th>0</th>\n",
              "      <td>CAT|1442.0</td>\n",
              "      <td>EUA|1635.0</td>\n",
              "      <td>ARG|1770.7</td>\n",
              "      <td>AUS|1483.7</td>\n",
              "      <td>ALE|1659.0</td>\n",
              "      <td>BEL|1821.9</td>\n",
              "      <td>BRA|1837.6</td>\n",
              "      <td>COR|1526.0</td>\n",
              "    </tr>\n",
              "    <tr>\n",
              "      <th>1</th>\n",
              "      <td>EQU|1463.7</td>\n",
              "      <td>ING|1737.5</td>\n",
              "      <td>ARA|1435.7</td>\n",
              "      <td>DIN|1665.5</td>\n",
              "      <td>COS|1500.1</td>\n",
              "      <td>CAN|1473.8</td>\n",
              "      <td>CAM|1485.0</td>\n",
              "      <td>GAN|1393.5</td>\n",
              "    </tr>\n",
              "    <tr>\n",
              "      <th>2</th>\n",
              "      <td>HOL|1679.4</td>\n",
              "      <td>IRA|1558.6</td>\n",
              "      <td>MEX|1649.6</td>\n",
              "      <td>FRA|1764.9</td>\n",
              "      <td>ESP|1716.9</td>\n",
              "      <td>CRO|1632.2</td>\n",
              "      <td>SUI|1621.4</td>\n",
              "      <td>POR|1678.7</td>\n",
              "    </tr>\n",
              "    <tr>\n",
              "      <th>3</th>\n",
              "      <td>SEN|1584.6</td>\n",
              "      <td>GAL|1582.1</td>\n",
              "      <td>POL|1546.2</td>\n",
              "      <td>TUN|1507.9</td>\n",
              "      <td>JAP|1554.7</td>\n",
              "      <td>MAR|1558.4</td>\n",
              "      <td>SER|1549.5</td>\n",
              "      <td>URU|1641.0</td>\n",
              "    </tr>\n",
              "  </tbody>\n",
              "</table>\n",
              "</div>\n",
              "      <button class=\"colab-df-convert\" onclick=\"convertToInteractive('df-d3afe787-6298-450e-af1f-bd566af7f965')\"\n",
              "              title=\"Convert this dataframe to an interactive table.\"\n",
              "              style=\"display:none;\">\n",
              "        \n",
              "  <svg xmlns=\"http://www.w3.org/2000/svg\" height=\"24px\"viewBox=\"0 0 24 24\"\n",
              "       width=\"24px\">\n",
              "    <path d=\"M0 0h24v24H0V0z\" fill=\"none\"/>\n",
              "    <path d=\"M18.56 5.44l.94 2.06.94-2.06 2.06-.94-2.06-.94-.94-2.06-.94 2.06-2.06.94zm-11 1L8.5 8.5l.94-2.06 2.06-.94-2.06-.94L8.5 2.5l-.94 2.06-2.06.94zm10 10l.94 2.06.94-2.06 2.06-.94-2.06-.94-.94-2.06-.94 2.06-2.06.94z\"/><path d=\"M17.41 7.96l-1.37-1.37c-.4-.4-.92-.59-1.43-.59-.52 0-1.04.2-1.43.59L10.3 9.45l-7.72 7.72c-.78.78-.78 2.05 0 2.83L4 21.41c.39.39.9.59 1.41.59.51 0 1.02-.2 1.41-.59l7.78-7.78 2.81-2.81c.8-.78.8-2.07 0-2.86zM5.41 20L4 18.59l7.72-7.72 1.47 1.35L5.41 20z\"/>\n",
              "  </svg>\n",
              "      </button>\n",
              "      \n",
              "  <style>\n",
              "    .colab-df-container {\n",
              "      display:flex;\n",
              "      flex-wrap:wrap;\n",
              "      gap: 12px;\n",
              "    }\n",
              "\n",
              "    .colab-df-convert {\n",
              "      background-color: #E8F0FE;\n",
              "      border: none;\n",
              "      border-radius: 50%;\n",
              "      cursor: pointer;\n",
              "      display: none;\n",
              "      fill: #1967D2;\n",
              "      height: 32px;\n",
              "      padding: 0 0 0 0;\n",
              "      width: 32px;\n",
              "    }\n",
              "\n",
              "    .colab-df-convert:hover {\n",
              "      background-color: #E2EBFA;\n",
              "      box-shadow: 0px 1px 2px rgba(60, 64, 67, 0.3), 0px 1px 3px 1px rgba(60, 64, 67, 0.15);\n",
              "      fill: #174EA6;\n",
              "    }\n",
              "\n",
              "    [theme=dark] .colab-df-convert {\n",
              "      background-color: #3B4455;\n",
              "      fill: #D2E3FC;\n",
              "    }\n",
              "\n",
              "    [theme=dark] .colab-df-convert:hover {\n",
              "      background-color: #434B5C;\n",
              "      box-shadow: 0px 1px 3px 1px rgba(0, 0, 0, 0.15);\n",
              "      filter: drop-shadow(0px 1px 2px rgba(0, 0, 0, 0.3));\n",
              "      fill: #FFFFFF;\n",
              "    }\n",
              "  </style>\n",
              "\n",
              "      <script>\n",
              "        const buttonEl =\n",
              "          document.querySelector('#df-d3afe787-6298-450e-af1f-bd566af7f965 button.colab-df-convert');\n",
              "        buttonEl.style.display =\n",
              "          google.colab.kernel.accessAllowed ? 'block' : 'none';\n",
              "\n",
              "        async function convertToInteractive(key) {\n",
              "          const element = document.querySelector('#df-d3afe787-6298-450e-af1f-bd566af7f965');\n",
              "          const dataTable =\n",
              "            await google.colab.kernel.invokeFunction('convertToInteractive',\n",
              "                                                     [key], {});\n",
              "          if (!dataTable) return;\n",
              "\n",
              "          const docLinkHtml = 'Like what you see? Visit the ' +\n",
              "            '<a target=\"_blank\" href=https://colab.research.google.com/notebooks/data_table.ipynb>data table notebook</a>'\n",
              "            + ' to learn more about interactive tables.';\n",
              "          element.innerHTML = '';\n",
              "          dataTable['output_type'] = 'display_data';\n",
              "          await google.colab.output.renderOutput(dataTable, element);\n",
              "          const docLink = document.createElement('div');\n",
              "          docLink.innerHTML = docLinkHtml;\n",
              "          element.appendChild(docLink);\n",
              "        }\n",
              "      </script>\n",
              "    </div>\n",
              "  </div>\n",
              "  "
            ]
          },
          "metadata": {},
          "execution_count": 796
        }
      ],
      "source": [
        "import pandas as pd\n",
        "import random\n",
        "\n",
        "df_selections = pd.read_csv('https://raw.githubusercontent.com/digitalinnovationone/live-coding-evitando-o-7x1-com-python-e-sql/main/data.csv')\n",
        "df_selections.head()"
      ]
    },
    {
      "cell_type": "markdown",
      "source": [
        "## 2- Initial treatments\n"
      ],
      "metadata": {
        "id": "XQJ1phC7KAcD"
      }
    },
    {
      "cell_type": "code",
      "source": [
        "class Team:\n",
        "  BestScore = 1837.6\n",
        "\n",
        "  def __init__(self, cellData):\n",
        "    teamData = cellData.split('|')\n",
        "    self.name = teamData[0]\n",
        "    self.score = float(teamData[1])\n",
        "    \n",
        "  def motivate(self):\n",
        "    self.lastMotivation = random.uniform(70,(self.score * 100) / Team.BestScore)\n",
        "    return self.lastMotivation\n",
        "\n",
        "  def result(team1, team2):\n",
        "    resultFinal = 0\n",
        "    result1 = random.randint(1,4)\n",
        "    result2 = random.randint(0,3)\n",
        "    if team1 > team2:\n",
        "      quarter1 = team1 \n",
        "      while result1 <= result2:\n",
        "        result2 = random.randint(0,3)\n",
        "      \n",
        "      print(f'Resultado: {result1} X {result2}')\n",
        "    else:\n",
        "      quarter1 = team2\n",
        "      while result1 <= result2:\n",
        "        result2 = random.randint(0,3)\n",
        "\n",
        "      print(f'Resultado: {result2} X  {result1}')\n",
        "      \n"
      ],
      "metadata": {
        "id": "t6ujC-VLIo67"
      },
      "execution_count": 797,
      "outputs": []
    },
    {
      "cell_type": "markdown",
      "source": [
        "## 3- Group phrase"
      ],
      "metadata": {
        "id": "QBTKAYDvWak5"
      }
    },
    {
      "cell_type": "code",
      "source": [
        "bestTeamsByGroup = {}\n",
        "\n",
        "for label, content in df_selections.items():\n",
        "  team1 = Team(content[0])\n",
        "  team2 = Team(content[1])\n",
        "  team3 = Team(content[2])\n",
        "  team4 = Team(content[3])\n",
        "  bestTeamsByGroup[label] = sorted([ team1, team2, team3, team4 ], key=Team.motivate, reverse=True)\n",
        "\n",
        "\n",
        "for group, motivatedTeam in bestTeamsByGroup.items():\n",
        "  print(f'Group {group} :', end=\"\")\n",
        "  for team in motivatedTeam:\n",
        "    print(team.name, team.lastMotivation, \" \",end=\"\")\n",
        "  print()"
      ],
      "metadata": {
        "colab": {
          "base_uri": "https://localhost:8080/"
        },
        "id": "65IabWHqRfbX",
        "outputId": "28e3a0df-4d97-4e6d-f287-386e1cb2281f"
      },
      "execution_count": 798,
      "outputs": [
        {
          "output_type": "stream",
          "name": "stdout",
          "text": [
            "Group A :EQU 78.89178063143572  CAT 77.47657060020752  HOL 74.81817093970628  SEN 72.39746446405059  \n",
            "Group B :EUA 86.46235624323285  GAL 80.77756711964757  ING 74.42201916515116  IRA 71.97253445364697  \n",
            "Group C :ARG 78.44891453256388  POL 77.98732901549013  MEX 72.93982439307592  ARA 71.17032354319635  \n",
            "Group D :DIN 80.56266086051326  TUN 80.20343724746849  AUS 78.10666292475399  FRA 76.38662643411455  \n",
            "Group E :ALE 86.35417851976061  ESP 83.36541436459827  COS 78.32940960747632  JAP 73.92990160001953  \n",
            "Group F :BEL 81.54320366353195  CRO 74.6353609739628  MAR 73.40725723767684  CAN 70.13542432860564  \n",
            "Group G :BRA 74.84701989726814  SUI 74.02628946791609  SER 73.14017953440828  CAM 72.4016635485606  \n",
            "Group H :POR 78.38763666322787  COR 77.32808512948274  URU 75.05138815981199  GAN 72.81102597213287  \n"
          ]
        }
      ]
    },
    {
      "cell_type": "markdown",
      "source": [
        "## 4 - Round of 16"
      ],
      "metadata": {
        "id": "NDcAWzblWkoy"
      }
    },
    {
      "cell_type": "code",
      "source": [
        "team1A = bestTeamsByGroup['A'][0]\n",
        "team2A = bestTeamsByGroup['A'][1]\n",
        "team1B = bestTeamsByGroup['B'][0]\n",
        "team2B = bestTeamsByGroup['B'][1]\n",
        "team1C = bestTeamsByGroup['C'][0]\n",
        "team2C = bestTeamsByGroup['C'][1]\n",
        "team1D = bestTeamsByGroup['D'][0]\n",
        "team2D = bestTeamsByGroup['D'][1]\n",
        "team1E = bestTeamsByGroup['E'][0]\n",
        "team2E = bestTeamsByGroup['E'][1]\n",
        "team1F = bestTeamsByGroup['F'][0]\n",
        "team2F = bestTeamsByGroup['F'][1]\n",
        "team1G = bestTeamsByGroup['G'][0]\n",
        "team2G = bestTeamsByGroup['G'][1]\n",
        "team1H = bestTeamsByGroup['H'][0]\n",
        "team2H = bestTeamsByGroup['H'][1]\n",
        "\n",
        "\n",
        "quarter1 = team1A if team1A.motivate() > team2B.motivate() else team2B\n",
        "quarter2 = team1C if team1C.motivate() > team2D.motivate() else team2D\n",
        "quarter3 = team1E if team1E.motivate() > team2F.motivate() else team2F\n",
        "quarter4 = team1G if team1G.motivate() > team2H.motivate() else team2H\n",
        "quarter5 = team1B if team1B.motivate() > team2A.motivate() else team2A\n",
        "quarter6 = team1D if team1D.motivate() > team2C.motivate() else team2C\n",
        "quarter7 = team1F if team1F.motivate() > team2E.motivate() else team2E\n",
        "quarter8 = team1H if team1H.motivate() > team2G.motivate() else team2G\n",
        "\n",
        "\n",
        "Team.result(team1A.lastMotivation, team2B.lastMotivation)\n",
        "print(f'{team1A.name} ({team1A.lastMotivation:.2f}) x {team2B.name} ({team2B.lastMotivation:.2f})\\n')\n",
        "\n",
        "Team.result(team1C.lastMotivation, team2D.lastMotivation)\n",
        "print(f'{team1C.name} ({team1C.lastMotivation:.2f}) x {team2D.name} ({team2D.lastMotivation:.2f})\\n')\n",
        "\n",
        "Team.result(team1E.lastMotivation, team2F.lastMotivation)\n",
        "print(f'{team1E.name} ({team1E.lastMotivation:.2f}) x {team2F.name} ({team2F.lastMotivation:.2f})\\n')\n",
        "\n",
        "Team.result(team1G.lastMotivation, team2H.lastMotivation)\n",
        "print(f'{team1G.name} ({team1G.lastMotivation:.2f}) x {team2H.name} ({team2H.lastMotivation:.2f})\\n')\n",
        "\n",
        "Team.result(team1B.lastMotivation, team2A.lastMotivation)\n",
        "print(f'{team1B.name} ({team1B.lastMotivation:.2f}) x {team2A.name} ({team2A.lastMotivation:.2f})\\n')\n",
        "\n",
        "Team.result(team1D.lastMotivation, team2C.lastMotivation)\n",
        "print(f'{team1D.name} ({team1D.lastMotivation:.2f}) x {team2C.name} ({team2C.lastMotivation:.2f})\\n')\n",
        "\n",
        "Team.result(team1F.lastMotivation, team2E.lastMotivation)\n",
        "print(f'{team1F.name} ({team1F.lastMotivation:.2f}) x {team2E.name} ({team2E.lastMotivation:.2f})\\n')\n",
        "\n",
        "Team.result(team1H.lastMotivation, team2G.lastMotivation)\n",
        "print(f'{team1H.name} ({team1H.lastMotivation:.2f}) x {team2G.name} ({team2G.lastMotivation:.2f})\\n')"
      ],
      "metadata": {
        "colab": {
          "base_uri": "https://localhost:8080/"
        },
        "id": "xMlvqie-Ku6f",
        "outputId": "965d062b-8ddb-4f54-c822-625dd91cb8a6"
      },
      "execution_count": 799,
      "outputs": [
        {
          "output_type": "stream",
          "name": "stdout",
          "text": [
            "Resultado: 1 X 0\n",
            "EQU (76.30) x GAL (70.11)\n",
            "\n",
            "Resultado: 3 X 1\n",
            "ARG (90.91) x TUN (71.09)\n",
            "\n",
            "Resultado: 3 X 0\n",
            "ALE (86.19) x CRO (77.22)\n",
            "\n",
            "Resultado: 4 X 1\n",
            "BRA (87.59) x COR (70.24)\n",
            "\n",
            "Resultado: 4 X 3\n",
            "EUA (73.74) x CAT (72.10)\n",
            "\n",
            "Resultado: 3 X  4\n",
            "DIN (73.43) x POL (81.30)\n",
            "\n",
            "Resultado: 4 X 0\n",
            "BEL (94.31) x ESP (75.99)\n",
            "\n",
            "Resultado: 0 X  1\n",
            "POR (83.57) x SUI (86.63)\n",
            "\n"
          ]
        }
      ]
    },
    {
      "cell_type": "markdown",
      "source": [
        "## 5 - Quarterfinals"
      ],
      "metadata": {
        "id": "CxeTXnSbW3TQ"
      }
    },
    {
      "cell_type": "code",
      "source": [
        "semi1 = quarter1 if quarter1.motivate() > quarter2.motivate() else quarter2\n",
        "semi2 = quarter3 if quarter3.motivate() > quarter4.motivate() else quarter4\n",
        "semi3 = quarter5 if quarter5.motivate() > quarter6.motivate() else quarter6\n",
        "semi4 = quarter7 if quarter7.motivate() > quarter8.motivate() else quarter8\n",
        "\n",
        "\n",
        "Team.result(quarter1.lastMotivation, quarter2.lastMotivation)\n",
        "print(f'{quarter1.name} ({quarter1.lastMotivation:.2f}) x {quarter2.name} ({quarter2.lastMotivation:.2f})\\n')\n",
        "\n",
        "Team.result(quarter3.lastMotivation, quarter4.lastMotivation)\n",
        "print(f'{quarter3.name} ({quarter3.lastMotivation:.2f}) x {quarter4.name} ({quarter4.lastMotivation:.2f})\\n')\n",
        "\n",
        "Team.result(quarter5.lastMotivation, quarter6.lastMotivation)\n",
        "print(f'{quarter5.name} ({quarter5.lastMotivation:.2f}) x {quarter6.name} ({quarter6.lastMotivation:.2f})\\n')\n",
        "\n",
        "Team.result(quarter7.lastMotivation, quarter8.lastMotivation)\n",
        "print(f'{quarter7.name} ({quarter7.lastMotivation:.2f}) x {quarter8.name} ({quarter8.lastMotivation:.2f})\\n')"
      ],
      "metadata": {
        "colab": {
          "base_uri": "https://localhost:8080/"
        },
        "id": "7PHen0v3oTS-",
        "outputId": "d4339e5e-51b8-4a57-e7dc-3c552e5ca695"
      },
      "execution_count": 800,
      "outputs": [
        {
          "output_type": "stream",
          "name": "stdout",
          "text": [
            "Resultado: 0 X  1\n",
            "EQU (73.05) x ARG (84.57)\n",
            "\n",
            "Resultado: 0 X  3\n",
            "ALE (85.18) x BRA (88.69)\n",
            "\n",
            "Resultado: 1 X  3\n",
            "EUA (70.80) x POL (72.57)\n",
            "\n",
            "Resultado: 2 X  3\n",
            "BEL (70.24) x SUI (87.91)\n",
            "\n"
          ]
        }
      ]
    },
    {
      "cell_type": "markdown",
      "source": [
        "## 6- Semifinals"
      ],
      "metadata": {
        "id": "F_5ZpvDlXIqI"
      }
    },
    {
      "cell_type": "code",
      "source": [
        "final1 = semi1 if semi1.motivate() > semi2.motivate() else semi2\n",
        "third1 = semi1 if semi1.lastMotivation < semi2.lastMotivation else semi2\n",
        "\n",
        "final2 = None\n",
        "third2 = None\n",
        "if semi3.motivate() > semi4.motivate():\n",
        "  final2 = semi3\n",
        "  third2 = semi4\n",
        "else:\n",
        "  final2 = semi4\n",
        "  third2 = semi3\n",
        "\n",
        "Team.result(semi1.lastMotivation, semi2.lastMotivation) \n",
        "print(f'{semi1.name} ({semi1.lastMotivation:.2f}) x {semi2.name} ({semi2.lastMotivation:.2f})\\n')\n",
        "\n",
        "Team.result(semi3.lastMotivation, semi4.lastMotivation) \n",
        "print(f'{semi3.name} ({semi3.lastMotivation:.2f}) x {semi4.name} ({semi4.lastMotivation:.2f})')"
      ],
      "metadata": {
        "colab": {
          "base_uri": "https://localhost:8080/"
        },
        "id": "Y2cW-FLQzccD",
        "outputId": "69ce9768-4e5f-4c93-a3b9-32169713760b"
      },
      "execution_count": 801,
      "outputs": [
        {
          "output_type": "stream",
          "name": "stdout",
          "text": [
            "Resultado: 0 X  4\n",
            "ARG (78.66) x BRA (82.65)\n",
            "\n",
            "Resultado: 3 X 0\n",
            "POL (80.57) x SUI (71.27)\n"
          ]
        }
      ]
    },
    {
      "cell_type": "markdown",
      "source": [
        "## 8 - Champions"
      ],
      "metadata": {
        "id": "PpAA_QZ9Xyzo"
      }
    },
    {
      "cell_type": "code",
      "source": [
        "finalPlace1 = final1 if final1.motivate() > final2.motivate() else final2\n",
        "finalPlace2 = final1 if final1.lastMotivation < final2.lastMotivation else final2\n",
        "thirdPlace1 = third1 if third1.motivate() > third2.motivate() else third2\n",
        "thirdPlace2 = third1 if third1.lastMotivation < third2.lastMotivation else third2\n",
        "\n",
        "\n",
        "Team.result(final1.lastMotivation, final2.lastMotivation) \n",
        "if finalPlace1.lastMotivation > finalPlace2.lastMotivation:\n",
        "  print(f'1º: {finalPlace1.name} ({finalPlace1.lastMotivation:.2f})')\n",
        "  print(f'2º: {finalPlace2.name} ({finalPlace2.lastMotivation:.2f})\\n')\n",
        "else:\n",
        "  print(f'1º: {finalPlace2.name} ({finalPlace2.lastMotivation:.2f})')\n",
        "  print(f'2º: {finalPlace1.name} ({finalPlace1.lastMotivation:.2f})\\n')\n",
        "\n",
        "\n",
        "Team.result(third1.lastMotivation, third2.lastMotivation) \n",
        "if thirdPlace1.lastMotivation > thirdPlace2.lastMotivation:\n",
        "  print(f'3º: {thirdPlace1.name} ({thirdPlace1.lastMotivation:.2f})')\n",
        "  print(f'4º: {thirdPlace2.name} ({thirdPlace2.lastMotivation:.2f})\\n')\n",
        "else:\n",
        "  print(f'3º: {thirdPlace2.name} ({thirdPlace2.lastMotivation:.2f})')\n",
        "  print(f'4º: {thirdPlace1.name} ({thirdPlace1.lastMotivation:.2f})\\n')"
      ],
      "metadata": {
        "colab": {
          "base_uri": "https://localhost:8080/"
        },
        "id": "38_Hr2NOXyIp",
        "outputId": "d0fc63c9-ba71-4e3a-b47e-2d48be2ae3e3"
      },
      "execution_count": 804,
      "outputs": [
        {
          "output_type": "stream",
          "name": "stdout",
          "text": [
            "Resultado: 2 X 1\n",
            "1º: BRA (80.24)\n",
            "2º: POL (71.66)\n",
            "\n",
            "Resultado: 1 X  2\n",
            "3º: SUI (82.35)\n",
            "4º: ARG (70.32)\n",
            "\n"
          ]
        }
      ]
    }
  ]
}