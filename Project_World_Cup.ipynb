{
  "nbformat": 4,
  "nbformat_minor": 0,
  "metadata": {
    "colab": {
      "provenance": [],
      "collapsed_sections": [],
      "authorship_tag": "ABX9TyOJNW2gMv5DuxDwB1js7QjE",
      "include_colab_link": true
    },
    "kernelspec": {
      "name": "python3",
      "display_name": "Python 3"
    },
    "language_info": {
      "name": "python"
    }
  },
  "cells": [
    {
      "cell_type": "markdown",
      "metadata": {
        "id": "view-in-github",
        "colab_type": "text"
      },
      "source": [
        "<a href=\"https://colab.research.google.com/github/MarcosWBeltrami/Project_World_Cup/blob/main/Project_World_Cup.ipynb\" target=\"_parent\"><img src=\"https://colab.research.google.com/assets/colab-badge.svg\" alt=\"Open In Colab\"/></a>"
      ]
    },
    {
      "cell_type": "markdown",
      "source": [
        "# Project World Cup\n",
        "### The idea is to conduct a simulation of the World Cup based on the FIFA ranking and taking into account the motivation of the selection."
      ],
      "metadata": {
        "id": "bGv35yyIHvke"
      }
    },
    {
      "cell_type": "markdown",
      "source": [
        "## 1- Imports of selections and their ranking"
      ],
      "metadata": {
        "id": "bz1CDcw5Jx_b"
      }
    },
    {
      "cell_type": "code",
      "execution_count": 768,
      "metadata": {
        "id": "yBDpdCYrTXnI",
        "colab": {
          "base_uri": "https://localhost:8080/",
          "height": 175
        },
        "outputId": "92a65854-63f6-4375-c469-b750bcedaacc"
      },
      "outputs": [
        {
          "output_type": "execute_result",
          "data": {
            "text/plain": [
              "            A           B           C           D           E           F  \\\n",
              "0  CAT|1442.0  EUA|1635.0  ARG|1770.7  AUS|1483.7  ALE|1659.0  BEL|1821.9   \n",
              "1  EQU|1463.7  ING|1737.5  ARA|1435.7  DIN|1665.5  COS|1500.1  CAN|1473.8   \n",
              "2  HOL|1679.4  IRA|1558.6  MEX|1649.6  FRA|1764.9  ESP|1716.9  CRO|1632.2   \n",
              "3  SEN|1584.6  GAL|1582.1  POL|1546.2  TUN|1507.9  JAP|1554.7  MAR|1558.4   \n",
              "\n",
              "            G           H  \n",
              "0  BRA|1837.6  COR|1526.0  \n",
              "1  CAM|1485.0  GAN|1393.5  \n",
              "2  SUI|1621.4  POR|1678.7  \n",
              "3  SER|1549.5  URU|1641.0  "
            ],
            "text/html": [
              "\n",
              "  <div id=\"df-216e743c-8b85-4ab0-8c2c-de1fafa60de2\">\n",
              "    <div class=\"colab-df-container\">\n",
              "      <div>\n",
              "<style scoped>\n",
              "    .dataframe tbody tr th:only-of-type {\n",
              "        vertical-align: middle;\n",
              "    }\n",
              "\n",
              "    .dataframe tbody tr th {\n",
              "        vertical-align: top;\n",
              "    }\n",
              "\n",
              "    .dataframe thead th {\n",
              "        text-align: right;\n",
              "    }\n",
              "</style>\n",
              "<table border=\"1\" class=\"dataframe\">\n",
              "  <thead>\n",
              "    <tr style=\"text-align: right;\">\n",
              "      <th></th>\n",
              "      <th>A</th>\n",
              "      <th>B</th>\n",
              "      <th>C</th>\n",
              "      <th>D</th>\n",
              "      <th>E</th>\n",
              "      <th>F</th>\n",
              "      <th>G</th>\n",
              "      <th>H</th>\n",
              "    </tr>\n",
              "  </thead>\n",
              "  <tbody>\n",
              "    <tr>\n",
              "      <th>0</th>\n",
              "      <td>CAT|1442.0</td>\n",
              "      <td>EUA|1635.0</td>\n",
              "      <td>ARG|1770.7</td>\n",
              "      <td>AUS|1483.7</td>\n",
              "      <td>ALE|1659.0</td>\n",
              "      <td>BEL|1821.9</td>\n",
              "      <td>BRA|1837.6</td>\n",
              "      <td>COR|1526.0</td>\n",
              "    </tr>\n",
              "    <tr>\n",
              "      <th>1</th>\n",
              "      <td>EQU|1463.7</td>\n",
              "      <td>ING|1737.5</td>\n",
              "      <td>ARA|1435.7</td>\n",
              "      <td>DIN|1665.5</td>\n",
              "      <td>COS|1500.1</td>\n",
              "      <td>CAN|1473.8</td>\n",
              "      <td>CAM|1485.0</td>\n",
              "      <td>GAN|1393.5</td>\n",
              "    </tr>\n",
              "    <tr>\n",
              "      <th>2</th>\n",
              "      <td>HOL|1679.4</td>\n",
              "      <td>IRA|1558.6</td>\n",
              "      <td>MEX|1649.6</td>\n",
              "      <td>FRA|1764.9</td>\n",
              "      <td>ESP|1716.9</td>\n",
              "      <td>CRO|1632.2</td>\n",
              "      <td>SUI|1621.4</td>\n",
              "      <td>POR|1678.7</td>\n",
              "    </tr>\n",
              "    <tr>\n",
              "      <th>3</th>\n",
              "      <td>SEN|1584.6</td>\n",
              "      <td>GAL|1582.1</td>\n",
              "      <td>POL|1546.2</td>\n",
              "      <td>TUN|1507.9</td>\n",
              "      <td>JAP|1554.7</td>\n",
              "      <td>MAR|1558.4</td>\n",
              "      <td>SER|1549.5</td>\n",
              "      <td>URU|1641.0</td>\n",
              "    </tr>\n",
              "  </tbody>\n",
              "</table>\n",
              "</div>\n",
              "      <button class=\"colab-df-convert\" onclick=\"convertToInteractive('df-216e743c-8b85-4ab0-8c2c-de1fafa60de2')\"\n",
              "              title=\"Convert this dataframe to an interactive table.\"\n",
              "              style=\"display:none;\">\n",
              "        \n",
              "  <svg xmlns=\"http://www.w3.org/2000/svg\" height=\"24px\"viewBox=\"0 0 24 24\"\n",
              "       width=\"24px\">\n",
              "    <path d=\"M0 0h24v24H0V0z\" fill=\"none\"/>\n",
              "    <path d=\"M18.56 5.44l.94 2.06.94-2.06 2.06-.94-2.06-.94-.94-2.06-.94 2.06-2.06.94zm-11 1L8.5 8.5l.94-2.06 2.06-.94-2.06-.94L8.5 2.5l-.94 2.06-2.06.94zm10 10l.94 2.06.94-2.06 2.06-.94-2.06-.94-.94-2.06-.94 2.06-2.06.94z\"/><path d=\"M17.41 7.96l-1.37-1.37c-.4-.4-.92-.59-1.43-.59-.52 0-1.04.2-1.43.59L10.3 9.45l-7.72 7.72c-.78.78-.78 2.05 0 2.83L4 21.41c.39.39.9.59 1.41.59.51 0 1.02-.2 1.41-.59l7.78-7.78 2.81-2.81c.8-.78.8-2.07 0-2.86zM5.41 20L4 18.59l7.72-7.72 1.47 1.35L5.41 20z\"/>\n",
              "  </svg>\n",
              "      </button>\n",
              "      \n",
              "  <style>\n",
              "    .colab-df-container {\n",
              "      display:flex;\n",
              "      flex-wrap:wrap;\n",
              "      gap: 12px;\n",
              "    }\n",
              "\n",
              "    .colab-df-convert {\n",
              "      background-color: #E8F0FE;\n",
              "      border: none;\n",
              "      border-radius: 50%;\n",
              "      cursor: pointer;\n",
              "      display: none;\n",
              "      fill: #1967D2;\n",
              "      height: 32px;\n",
              "      padding: 0 0 0 0;\n",
              "      width: 32px;\n",
              "    }\n",
              "\n",
              "    .colab-df-convert:hover {\n",
              "      background-color: #E2EBFA;\n",
              "      box-shadow: 0px 1px 2px rgba(60, 64, 67, 0.3), 0px 1px 3px 1px rgba(60, 64, 67, 0.15);\n",
              "      fill: #174EA6;\n",
              "    }\n",
              "\n",
              "    [theme=dark] .colab-df-convert {\n",
              "      background-color: #3B4455;\n",
              "      fill: #D2E3FC;\n",
              "    }\n",
              "\n",
              "    [theme=dark] .colab-df-convert:hover {\n",
              "      background-color: #434B5C;\n",
              "      box-shadow: 0px 1px 3px 1px rgba(0, 0, 0, 0.15);\n",
              "      filter: drop-shadow(0px 1px 2px rgba(0, 0, 0, 0.3));\n",
              "      fill: #FFFFFF;\n",
              "    }\n",
              "  </style>\n",
              "\n",
              "      <script>\n",
              "        const buttonEl =\n",
              "          document.querySelector('#df-216e743c-8b85-4ab0-8c2c-de1fafa60de2 button.colab-df-convert');\n",
              "        buttonEl.style.display =\n",
              "          google.colab.kernel.accessAllowed ? 'block' : 'none';\n",
              "\n",
              "        async function convertToInteractive(key) {\n",
              "          const element = document.querySelector('#df-216e743c-8b85-4ab0-8c2c-de1fafa60de2');\n",
              "          const dataTable =\n",
              "            await google.colab.kernel.invokeFunction('convertToInteractive',\n",
              "                                                     [key], {});\n",
              "          if (!dataTable) return;\n",
              "\n",
              "          const docLinkHtml = 'Like what you see? Visit the ' +\n",
              "            '<a target=\"_blank\" href=https://colab.research.google.com/notebooks/data_table.ipynb>data table notebook</a>'\n",
              "            + ' to learn more about interactive tables.';\n",
              "          element.innerHTML = '';\n",
              "          dataTable['output_type'] = 'display_data';\n",
              "          await google.colab.output.renderOutput(dataTable, element);\n",
              "          const docLink = document.createElement('div');\n",
              "          docLink.innerHTML = docLinkHtml;\n",
              "          element.appendChild(docLink);\n",
              "        }\n",
              "      </script>\n",
              "    </div>\n",
              "  </div>\n",
              "  "
            ]
          },
          "metadata": {},
          "execution_count": 768
        }
      ],
      "source": [
        "import pandas as pd\n",
        "import random\n",
        "\n",
        "df_selections = pd.read_csv('https://raw.githubusercontent.com/digitalinnovationone/live-coding-evitando-o-7x1-com-python-e-sql/main/data.csv')\n",
        "df_selections.head()"
      ]
    },
    {
      "cell_type": "markdown",
      "source": [
        "## 2- Initial treatments\n"
      ],
      "metadata": {
        "id": "XQJ1phC7KAcD"
      }
    },
    {
      "cell_type": "code",
      "source": [
        "class Team:\n",
        "  BestScore = 1837.6\n",
        "\n",
        "  def __init__(self, cellData):\n",
        "    teamData = cellData.split('|')\n",
        "    self.name = teamData[0]\n",
        "    self.score = float(teamData[1])\n",
        "    \n",
        "  def motivate(self):\n",
        "    self.lastMotivation = random.uniform(70,(self.score * 100) / Team.BestScore)\n",
        "    return self.lastMotivation\n",
        "\n",
        "  def result(team1, team2):\n",
        "    resultFinal = 0\n",
        "    result1 = random.randint(1,4)\n",
        "    result2 = random.randint(0,3)\n",
        "    if team1 > team2:\n",
        "      quarter1 = team1 \n",
        "      while result1 <= result2:\n",
        "        result2 = random.randint(0,3)\n",
        "      \n",
        "      print(f'Resultado: {result1} X {result2}')\n",
        "    else:\n",
        "      quarter1 = team2\n",
        "      while result1 <= result2:\n",
        "        result2 = random.randint(0,3)\n",
        "\n",
        "      print(f'Resultado: {result2} X  {result1}')\n",
        "      \n"
      ],
      "metadata": {
        "id": "t6ujC-VLIo67"
      },
      "execution_count": 769,
      "outputs": []
    },
    {
      "cell_type": "markdown",
      "source": [
        "## 3- Group phrase"
      ],
      "metadata": {
        "id": "QBTKAYDvWak5"
      }
    },
    {
      "cell_type": "code",
      "source": [
        "bestTeamsByGroup = {}\n",
        "\n",
        "for label, content in df_selections.items():\n",
        "  team1 = Team(content[0])\n",
        "  team2 = Team(content[1])\n",
        "  team3 = Team(content[2])\n",
        "  team4 = Team(content[3])\n",
        "  bestTeamsByGroup[label] = sorted([ team1, team2, team3, team4 ], key=Team.motivate, reverse=True)\n",
        "\n",
        "\n",
        "for group, motivatedTeam in bestTeamsByGroup.items():\n",
        "  print(f'Group {group} :', end=\"\")\n",
        "  for team in motivatedTeam:\n",
        "    print(team.name, team.lastMotivation, \" \",end=\"\")\n",
        "  print()"
      ],
      "metadata": {
        "colab": {
          "base_uri": "https://localhost:8080/"
        },
        "id": "65IabWHqRfbX",
        "outputId": "6d6eb84a-da92-46e0-d937-8341bb52e662"
      },
      "execution_count": 770,
      "outputs": [
        {
          "output_type": "stream",
          "name": "stdout",
          "text": [
            "Group A :HOL 79.1391903896933  CAT 72.86042395026945  EQU 71.4191272229645  SEN 71.04528320543328  \n",
            "Group B :IRA 83.90974457327125  EUA 77.93414455409051  ING 72.47253223620166  GAL 72.05754323351508  \n",
            "Group C :MEX 83.03407901332275  ARG 78.79345985894739  ARA 74.88624200842277  POL 70.41449688989174  \n",
            "Group D :FRA 86.3719613789548  AUS 74.42806819666193  TUN 74.08417666951911  DIN 73.63684335110673  \n",
            "Group E :ESP 80.14233828350565  COS 77.91850643965559  JAP 75.75483734183169  ALE 72.15145302350216  \n",
            "Group F :BEL 93.0826144557112  CRO 76.64116930125222  MAR 74.97858073133726  CAN 71.60556678736039  \n",
            "Group G :SUI 83.76043126246128  CAM 78.32579287955429  BRA 74.37608781690994  SER 70.04748108016574  \n",
            "Group H :POR 90.21876877947543  URU 79.74846367418385  COR 75.24325400973757  GAN 73.60979794097756  \n"
          ]
        }
      ]
    },
    {
      "cell_type": "markdown",
      "source": [
        "## 4 - Round of 16"
      ],
      "metadata": {
        "id": "NDcAWzblWkoy"
      }
    },
    {
      "cell_type": "code",
      "source": [
        "team1A = bestTeamsByGroup['A'][0]\n",
        "team2A = bestTeamsByGroup['A'][1]\n",
        "team1B = bestTeamsByGroup['B'][0]\n",
        "team2B = bestTeamsByGroup['B'][1]\n",
        "team1C = bestTeamsByGroup['C'][0]\n",
        "team2C = bestTeamsByGroup['C'][1]\n",
        "team1D = bestTeamsByGroup['D'][0]\n",
        "team2D = bestTeamsByGroup['D'][1]\n",
        "team1E = bestTeamsByGroup['E'][0]\n",
        "team2E = bestTeamsByGroup['E'][1]\n",
        "team1F = bestTeamsByGroup['F'][0]\n",
        "team2F = bestTeamsByGroup['F'][1]\n",
        "team1G = bestTeamsByGroup['G'][0]\n",
        "team2G = bestTeamsByGroup['G'][1]\n",
        "team1H = bestTeamsByGroup['H'][0]\n",
        "team2H = bestTeamsByGroup['H'][1]\n",
        "\n",
        "\n",
        "quarter1 = team1A if team1A.motivate() > team2B.motivate() else team2B\n",
        "quarter2 = team1C if team1C.motivate() > team2D.motivate() else team2D\n",
        "quarter3 = team1E if team1E.motivate() > team2F.motivate() else team2F\n",
        "quarter4 = team1G if team1G.motivate() > team2H.motivate() else team2H\n",
        "quarter5 = team1B if team1B.motivate() > team2A.motivate() else team2A\n",
        "quarter6 = team1D if team1D.motivate() > team2C.motivate() else team2C\n",
        "quarter7 = team1F if team1F.motivate() > team2E.motivate() else team2E\n",
        "quarter8 = team1H if team1H.motivate() > team2G.motivate() else team2G\n",
        "\n",
        "\n",
        "Team.result(team1A.lastMotivation, team2B.lastMotivation)\n",
        "print(f'{team1A.name} ({team1A.lastMotivation:.2f}) x {team2B.name} ({team2B.lastMotivation:.2f})\\n')\n",
        "\n",
        "Team.result(team1C.lastMotivation, team2D.lastMotivation)\n",
        "print(f'{team1C.name} ({team1C.lastMotivation:.2f}) x {team2D.name} ({team2D.lastMotivation:.2f})\\n')\n",
        "\n",
        "Team.result(team1E.lastMotivation, team2F.lastMotivation)\n",
        "print(f'{team1E.name} ({team1E.lastMotivation:.2f}) x {team2F.name} ({team2F.lastMotivation:.2f})\\n')\n",
        "\n",
        "Team.result(team1G.lastMotivation, team2H.lastMotivation)\n",
        "print(f'{team1G.name} ({team1G.lastMotivation:.2f}) x {team2H.name} ({team2H.lastMotivation:.2f})\\n')\n",
        "\n",
        "Team.result(team1B.lastMotivation, team2A.lastMotivation)\n",
        "print(f'{team1B.name} ({team1B.lastMotivation:.2f}) x {team2A.name} ({team2A.lastMotivation:.2f})\\n')\n",
        "\n",
        "Team.result(team1D.lastMotivation, team2C.lastMotivation)\n",
        "print(f'{team1D.name} ({team1D.lastMotivation:.2f}) x {team2C.name} ({team2C.lastMotivation:.2f})\\n')\n",
        "\n",
        "Team.result(team1F.lastMotivation, team2E.lastMotivation)\n",
        "print(f'{team1F.name} ({team1F.lastMotivation:.2f}) x {team2E.name} ({team2E.lastMotivation:.2f})\\n')\n",
        "\n",
        "Team.result(team1H.lastMotivation, team2G.lastMotivation)\n",
        "print(f'{team1H.name} ({team1H.lastMotivation:.2f}) x {team2G.name} ({team2G.lastMotivation:.2f})\\n')"
      ],
      "metadata": {
        "colab": {
          "base_uri": "https://localhost:8080/"
        },
        "id": "xMlvqie-Ku6f",
        "outputId": "f15e65da-e496-40a6-8e53-c22ab94989d4"
      },
      "execution_count": 771,
      "outputs": [
        {
          "output_type": "stream",
          "name": "stdout",
          "text": [
            "Resultado: 2 X  4\n",
            "HOL (70.93) x EUA (79.60)\n",
            "\n",
            "Resultado: 3 X 2\n",
            "MEX (80.40) x AUS (79.21)\n",
            "\n",
            "Resultado: 4 X 2\n",
            "ESP (89.77) x CRO (75.37)\n",
            "\n",
            "Resultado: 2 X 1\n",
            "SUI (83.55) x URU (74.30)\n",
            "\n",
            "Resultado: 3 X  4\n",
            "IRA (72.57) x CAT (72.76)\n",
            "\n",
            "Resultado: 2 X 1\n",
            "FRA (79.90) x ARG (77.59)\n",
            "\n",
            "Resultado: 0 X  3\n",
            "BEL (78.63) x COS (81.49)\n",
            "\n",
            "Resultado: 1 X  3\n",
            "POR (76.11) x CAM (76.66)\n",
            "\n"
          ]
        }
      ]
    },
    {
      "cell_type": "markdown",
      "source": [
        "## 5 - Quarterfinals"
      ],
      "metadata": {
        "id": "CxeTXnSbW3TQ"
      }
    },
    {
      "cell_type": "code",
      "source": [
        "semi1 = quarter1 if quarter1.motivate() > quarter2.motivate() else quarter2\n",
        "semi2 = quarter3 if quarter3.motivate() > quarter4.motivate() else quarter4\n",
        "semi3 = quarter5 if quarter5.motivate() > quarter6.motivate() else quarter6\n",
        "semi4 = quarter7 if quarter7.motivate() > quarter8.motivate() else quarter8\n",
        "\n",
        "\n",
        "Team.result(quarter1.lastMotivation, quarter2.lastMotivation)\n",
        "print(f'{quarter1.name} ({quarter1.lastMotivation:.2f}) x {quarter2.name} ({quarter2.lastMotivation:.2f})\\n')\n",
        "\n",
        "Team.result(quarter3.lastMotivation, quarter4.lastMotivation)\n",
        "print(f'{quarter3.name} ({quarter3.lastMotivation:.2f}) x {quarter4.name} ({quarter4.lastMotivation:.2f})\\n')\n",
        "\n",
        "Team.result(quarter5.lastMotivation, quarter6.lastMotivation)\n",
        "print(f'{quarter5.name} ({quarter5.lastMotivation:.2f}) x {quarter6.name} ({quarter6.lastMotivation:.2f})\\n')\n",
        "\n",
        "Team.result(quarter7.lastMotivation, quarter8.lastMotivation)\n",
        "print(f'{quarter7.name} ({quarter7.lastMotivation:.2f}) x {quarter8.name} ({quarter8.lastMotivation:.2f})\\n')"
      ],
      "metadata": {
        "colab": {
          "base_uri": "https://localhost:8080/"
        },
        "id": "7PHen0v3oTS-",
        "outputId": "3265de22-9176-44fd-cb23-b80f34a706bc"
      },
      "execution_count": 772,
      "outputs": [
        {
          "output_type": "stream",
          "name": "stdout",
          "text": [
            "Resultado: 0 X  2\n",
            "EUA (73.77) x MEX (83.38)\n",
            "\n",
            "Resultado: 3 X 2\n",
            "ESP (83.06) x SUI (78.78)\n",
            "\n",
            "Resultado: 3 X  4\n",
            "CAT (77.43) x FRA (84.39)\n",
            "\n",
            "Resultado: 0 X  2\n",
            "COS (71.73) x CAM (74.26)\n",
            "\n"
          ]
        }
      ]
    },
    {
      "cell_type": "markdown",
      "source": [
        "## 6- Semifinals"
      ],
      "metadata": {
        "id": "F_5ZpvDlXIqI"
      }
    },
    {
      "cell_type": "code",
      "source": [
        "final1 = semi1 if semi1.motivate() > semi2.motivate() else semi2\n",
        "third1 = semi1 if semi1.lastMotivation < semi2.lastMotivation else semi2\n",
        "\n",
        "final2 = None\n",
        "third2 = None\n",
        "if semi3.motivate() > semi4.motivate():\n",
        "  final2 = semi3\n",
        "  third2 = semi4\n",
        "else:\n",
        "  final2 = semi4\n",
        "  third2 = semi3\n",
        "\n",
        "Team.result(semi1.lastMotivation, semi2.lastMotivation) \n",
        "print(f'{semi1.name} ({semi1.lastMotivation:.2f}) x {semi2.name} ({semi2.lastMotivation:.2f})\\n')\n",
        "\n",
        "Team.result(semi3.lastMotivation, semi4.lastMotivation) \n",
        "print(f'{semi3.name} ({semi3.lastMotivation:.2f}) x {semi4.name} ({semi4.lastMotivation:.2f})')"
      ],
      "metadata": {
        "colab": {
          "base_uri": "https://localhost:8080/"
        },
        "id": "Y2cW-FLQzccD",
        "outputId": "9f68ff63-2898-4b46-9343-1b36db54179d"
      },
      "execution_count": 773,
      "outputs": [
        {
          "output_type": "stream",
          "name": "stdout",
          "text": [
            "Resultado: 0 X  4\n",
            "MEX (77.95) x ESP (87.99)\n",
            "\n",
            "Resultado: 2 X 0\n",
            "FRA (75.81) x CAM (75.00)\n"
          ]
        }
      ]
    },
    {
      "cell_type": "markdown",
      "source": [
        "## 8 - Champions"
      ],
      "metadata": {
        "id": "PpAA_QZ9Xyzo"
      }
    },
    {
      "cell_type": "code",
      "source": [
        "finalPlace1 = final1 if final1.motivate() > final2.motivate() else final2\n",
        "finalPlace2 = final1 if final1.lastMotivation < final2.lastMotivation else final2\n",
        "thirdPlace1 = third1 if third1.motivate() > third2.motivate() else third2\n",
        "thirdPlace2 = third1 if third1.lastMotivation < third2.lastMotivation else third2\n",
        "\n",
        "\n",
        "Team.result(final1.lastMotivation, final2.lastMotivation) \n",
        "if finalPlace1.lastMotivation > finalPlace2.lastMotivation:\n",
        "  print(f'1º: {finalPlace1.name} ({finalPlace1.lastMotivation:.2f})')\n",
        "  print(f'2º: {finalPlace2.name} ({finalPlace2.lastMotivation:.2f})\\n')\n",
        "else:\n",
        "  print(f'1º: {finalPlace2.name} ({finalPlace2.lastMotivation:.2f})')\n",
        "  print(f'2º: {finalPlace1.name} ({finalPlace1.lastMotivation:.2f})\\n')\n",
        "\n",
        "\n",
        "Team.result(third1.lastMotivation, third2.lastMotivation) \n",
        "if thirdPlace1.lastMotivation > thirdPlace2.lastMotivation:\n",
        "  print(f'1º: {thirdPlace1.name} ({thirdPlace1.lastMotivation:.2f})')\n",
        "  print(f'2º: {thirdPlace2.name} ({thirdPlace2.lastMotivation:.2f})\\n')\n",
        "else:\n",
        "  print(f'3º: {thirdPlace2.name} ({thirdPlace2.lastMotivation:.2f})')\n",
        "  print(f'4º: {thirdPlace1.name} ({thirdPlace1.lastMotivation:.2f})\\n')"
      ],
      "metadata": {
        "colab": {
          "base_uri": "https://localhost:8080/"
        },
        "id": "38_Hr2NOXyIp",
        "outputId": "abd95ae5-f8cc-4deb-f9f6-f95c408696d7"
      },
      "execution_count": 774,
      "outputs": [
        {
          "output_type": "stream",
          "name": "stdout",
          "text": [
            "Resultado: 3 X 2\n",
            "1º: ESP (87.02)\n",
            "2º: FRA (77.85)\n",
            "\n",
            "Resultado: 3 X 1\n",
            "1º: MEX (80.87)\n",
            "2º: CAM (72.96)\n",
            "\n"
          ]
        }
      ]
    }
  ]
}