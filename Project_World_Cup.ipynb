{
  "nbformat": 4,
  "nbformat_minor": 0,
  "metadata": {
    "colab": {
      "provenance": [],
      "collapsed_sections": [],
      "authorship_tag": "ABX9TyMT2Jpkw8BsxsGzeawumJFP",
      "include_colab_link": true
    },
    "kernelspec": {
      "name": "python3",
      "display_name": "Python 3"
    },
    "language_info": {
      "name": "python"
    }
  },
  "cells": [
    {
      "cell_type": "markdown",
      "metadata": {
        "id": "view-in-github",
        "colab_type": "text"
      },
      "source": [
        "<a href=\"https://colab.research.google.com/github/MarcosWBeltrami/Project_World_Cup/blob/main/Project_World_Cup.ipynb\" target=\"_parent\"><img src=\"https://colab.research.google.com/assets/colab-badge.svg\" alt=\"Open In Colab\"/></a>"
      ]
    },
    {
      "cell_type": "markdown",
      "source": [
        "# Project World Cup\n",
        "### The idea is to conduct a simulation of the World Cup based on the FIFA ranking and taking into account the motivation of the selection."
      ],
      "metadata": {
        "id": "bGv35yyIHvke"
      }
    },
    {
      "cell_type": "markdown",
      "source": [
        "## 1- Imports of selections and their ranking"
      ],
      "metadata": {
        "id": "bz1CDcw5Jx_b"
      }
    },
    {
      "cell_type": "code",
      "execution_count": 132,
      "metadata": {
        "id": "yBDpdCYrTXnI",
        "colab": {
          "base_uri": "https://localhost:8080/",
          "height": 175
        },
        "outputId": "d921f631-47c7-4a51-f463-65bcfd48c626"
      },
      "outputs": [
        {
          "output_type": "execute_result",
          "data": {
            "text/plain": [
              "            A           B           C           D           E           F  \\\n",
              "0  CAT|1442.0  EUA|1635.0  ARG|1770.7  AUS|1483.7  ALE|1659.0  BEL|1821.9   \n",
              "1  EQU|1463.7  ING|1737.5  ARA|1435.7  DIN|1665.5  COS|1500.1  CAN|1473.8   \n",
              "2  HOL|1679.4  IRA|1558.6  MEX|1649.6  FRA|1764.9  ESP|1716.9  CRO|1632.2   \n",
              "3  SEN|1584.6  GAL|1582.1  POL|1546.2  TUN|1507.9  JAP|1554.7  MAR|1558.4   \n",
              "\n",
              "            G           H  \n",
              "0  BRA|1837.6  COR|1526.0  \n",
              "1  CAM|1485.0  GAN|1393.5  \n",
              "2  SUI|1621.4  POR|1678.7  \n",
              "3  SER|1549.5  URU|1641.0  "
            ],
            "text/html": [
              "\n",
              "  <div id=\"df-17c4ba00-ec2f-493c-ade6-e91d88fabe4f\">\n",
              "    <div class=\"colab-df-container\">\n",
              "      <div>\n",
              "<style scoped>\n",
              "    .dataframe tbody tr th:only-of-type {\n",
              "        vertical-align: middle;\n",
              "    }\n",
              "\n",
              "    .dataframe tbody tr th {\n",
              "        vertical-align: top;\n",
              "    }\n",
              "\n",
              "    .dataframe thead th {\n",
              "        text-align: right;\n",
              "    }\n",
              "</style>\n",
              "<table border=\"1\" class=\"dataframe\">\n",
              "  <thead>\n",
              "    <tr style=\"text-align: right;\">\n",
              "      <th></th>\n",
              "      <th>A</th>\n",
              "      <th>B</th>\n",
              "      <th>C</th>\n",
              "      <th>D</th>\n",
              "      <th>E</th>\n",
              "      <th>F</th>\n",
              "      <th>G</th>\n",
              "      <th>H</th>\n",
              "    </tr>\n",
              "  </thead>\n",
              "  <tbody>\n",
              "    <tr>\n",
              "      <th>0</th>\n",
              "      <td>CAT|1442.0</td>\n",
              "      <td>EUA|1635.0</td>\n",
              "      <td>ARG|1770.7</td>\n",
              "      <td>AUS|1483.7</td>\n",
              "      <td>ALE|1659.0</td>\n",
              "      <td>BEL|1821.9</td>\n",
              "      <td>BRA|1837.6</td>\n",
              "      <td>COR|1526.0</td>\n",
              "    </tr>\n",
              "    <tr>\n",
              "      <th>1</th>\n",
              "      <td>EQU|1463.7</td>\n",
              "      <td>ING|1737.5</td>\n",
              "      <td>ARA|1435.7</td>\n",
              "      <td>DIN|1665.5</td>\n",
              "      <td>COS|1500.1</td>\n",
              "      <td>CAN|1473.8</td>\n",
              "      <td>CAM|1485.0</td>\n",
              "      <td>GAN|1393.5</td>\n",
              "    </tr>\n",
              "    <tr>\n",
              "      <th>2</th>\n",
              "      <td>HOL|1679.4</td>\n",
              "      <td>IRA|1558.6</td>\n",
              "      <td>MEX|1649.6</td>\n",
              "      <td>FRA|1764.9</td>\n",
              "      <td>ESP|1716.9</td>\n",
              "      <td>CRO|1632.2</td>\n",
              "      <td>SUI|1621.4</td>\n",
              "      <td>POR|1678.7</td>\n",
              "    </tr>\n",
              "    <tr>\n",
              "      <th>3</th>\n",
              "      <td>SEN|1584.6</td>\n",
              "      <td>GAL|1582.1</td>\n",
              "      <td>POL|1546.2</td>\n",
              "      <td>TUN|1507.9</td>\n",
              "      <td>JAP|1554.7</td>\n",
              "      <td>MAR|1558.4</td>\n",
              "      <td>SER|1549.5</td>\n",
              "      <td>URU|1641.0</td>\n",
              "    </tr>\n",
              "  </tbody>\n",
              "</table>\n",
              "</div>\n",
              "      <button class=\"colab-df-convert\" onclick=\"convertToInteractive('df-17c4ba00-ec2f-493c-ade6-e91d88fabe4f')\"\n",
              "              title=\"Convert this dataframe to an interactive table.\"\n",
              "              style=\"display:none;\">\n",
              "        \n",
              "  <svg xmlns=\"http://www.w3.org/2000/svg\" height=\"24px\"viewBox=\"0 0 24 24\"\n",
              "       width=\"24px\">\n",
              "    <path d=\"M0 0h24v24H0V0z\" fill=\"none\"/>\n",
              "    <path d=\"M18.56 5.44l.94 2.06.94-2.06 2.06-.94-2.06-.94-.94-2.06-.94 2.06-2.06.94zm-11 1L8.5 8.5l.94-2.06 2.06-.94-2.06-.94L8.5 2.5l-.94 2.06-2.06.94zm10 10l.94 2.06.94-2.06 2.06-.94-2.06-.94-.94-2.06-.94 2.06-2.06.94z\"/><path d=\"M17.41 7.96l-1.37-1.37c-.4-.4-.92-.59-1.43-.59-.52 0-1.04.2-1.43.59L10.3 9.45l-7.72 7.72c-.78.78-.78 2.05 0 2.83L4 21.41c.39.39.9.59 1.41.59.51 0 1.02-.2 1.41-.59l7.78-7.78 2.81-2.81c.8-.78.8-2.07 0-2.86zM5.41 20L4 18.59l7.72-7.72 1.47 1.35L5.41 20z\"/>\n",
              "  </svg>\n",
              "      </button>\n",
              "      \n",
              "  <style>\n",
              "    .colab-df-container {\n",
              "      display:flex;\n",
              "      flex-wrap:wrap;\n",
              "      gap: 12px;\n",
              "    }\n",
              "\n",
              "    .colab-df-convert {\n",
              "      background-color: #E8F0FE;\n",
              "      border: none;\n",
              "      border-radius: 50%;\n",
              "      cursor: pointer;\n",
              "      display: none;\n",
              "      fill: #1967D2;\n",
              "      height: 32px;\n",
              "      padding: 0 0 0 0;\n",
              "      width: 32px;\n",
              "    }\n",
              "\n",
              "    .colab-df-convert:hover {\n",
              "      background-color: #E2EBFA;\n",
              "      box-shadow: 0px 1px 2px rgba(60, 64, 67, 0.3), 0px 1px 3px 1px rgba(60, 64, 67, 0.15);\n",
              "      fill: #174EA6;\n",
              "    }\n",
              "\n",
              "    [theme=dark] .colab-df-convert {\n",
              "      background-color: #3B4455;\n",
              "      fill: #D2E3FC;\n",
              "    }\n",
              "\n",
              "    [theme=dark] .colab-df-convert:hover {\n",
              "      background-color: #434B5C;\n",
              "      box-shadow: 0px 1px 3px 1px rgba(0, 0, 0, 0.15);\n",
              "      filter: drop-shadow(0px 1px 2px rgba(0, 0, 0, 0.3));\n",
              "      fill: #FFFFFF;\n",
              "    }\n",
              "  </style>\n",
              "\n",
              "      <script>\n",
              "        const buttonEl =\n",
              "          document.querySelector('#df-17c4ba00-ec2f-493c-ade6-e91d88fabe4f button.colab-df-convert');\n",
              "        buttonEl.style.display =\n",
              "          google.colab.kernel.accessAllowed ? 'block' : 'none';\n",
              "\n",
              "        async function convertToInteractive(key) {\n",
              "          const element = document.querySelector('#df-17c4ba00-ec2f-493c-ade6-e91d88fabe4f');\n",
              "          const dataTable =\n",
              "            await google.colab.kernel.invokeFunction('convertToInteractive',\n",
              "                                                     [key], {});\n",
              "          if (!dataTable) return;\n",
              "\n",
              "          const docLinkHtml = 'Like what you see? Visit the ' +\n",
              "            '<a target=\"_blank\" href=https://colab.research.google.com/notebooks/data_table.ipynb>data table notebook</a>'\n",
              "            + ' to learn more about interactive tables.';\n",
              "          element.innerHTML = '';\n",
              "          dataTable['output_type'] = 'display_data';\n",
              "          await google.colab.output.renderOutput(dataTable, element);\n",
              "          const docLink = document.createElement('div');\n",
              "          docLink.innerHTML = docLinkHtml;\n",
              "          element.appendChild(docLink);\n",
              "        }\n",
              "      </script>\n",
              "    </div>\n",
              "  </div>\n",
              "  "
            ]
          },
          "metadata": {},
          "execution_count": 132
        }
      ],
      "source": [
        "import pandas as pd\n",
        "import random\n",
        "\n",
        "df_selections = pd.read_csv('https://raw.githubusercontent.com/digitalinnovationone/live-coding-evitando-o-7x1-com-python-e-sql/main/data.csv')\n",
        "df_selections.head()"
      ]
    },
    {
      "cell_type": "markdown",
      "source": [
        "## 2- Initial treatments\n"
      ],
      "metadata": {
        "id": "XQJ1phC7KAcD"
      }
    },
    {
      "cell_type": "code",
      "source": [
        "class Team:\n",
        "  BestScore = 1837.6\n",
        "\n",
        "\n",
        "  def __init__(self, cellData):\n",
        "    teamData = cellData.split('|')\n",
        "    self.name = teamData[0]\n",
        "    self.score = float(teamData[1])\n",
        "    \n",
        "\n",
        "  def motivate(self):\n",
        "    self.lastMotivation = random.uniform(70,(self.score * 100) / Team.BestScore)\n",
        "    return self.lastMotivation\n",
        "\n",
        "\n",
        "  def result(team1, team2):\n",
        "    valueTeam1 = team1.lastMotivation\n",
        "    valueTeam2 = team2.lastMotivation\n",
        "    result1 = random.randint(1,4)\n",
        "    result2 = random.randint(0,3)\n",
        "    if valueTeam1 > valueTeam2:\n",
        "      while result1 <= result2:\n",
        "        result2 = random.randint(0,3)\n",
        "\n",
        "      print(f'{team1.name} {result1} X {result2} {team2.name}')\n",
        "    else:\n",
        "      while result1 <= result2:\n",
        "        result2 = random.randint(0,3)\n",
        "\n",
        "      print(f'{team2.name} {result1} X  {result2} {team1.name}')\n",
        "      \n"
      ],
      "metadata": {
        "id": "t6ujC-VLIo67"
      },
      "execution_count": 133,
      "outputs": []
    },
    {
      "cell_type": "markdown",
      "source": [
        "## 3- Group phrase"
      ],
      "metadata": {
        "id": "QBTKAYDvWak5"
      }
    },
    {
      "cell_type": "code",
      "source": [
        "bestTeamsByGroup = {}\n",
        "\n",
        "for label, content in df_selections.items():\n",
        "  team1 = Team(content[0])\n",
        "  team2 = Team(content[1])\n",
        "  team3 = Team(content[2])\n",
        "  team4 = Team(content[3])\n",
        "  bestTeamsByGroup[label] = sorted([ team1, team2, team3, team4 ], key=Team.motivate, reverse=True)\n",
        "\n",
        "\n",
        "for group, motivatedTeam in bestTeamsByGroup.items():\n",
        "  print(f'Group {group} :', end=\"\")\n",
        "  for team in motivatedTeam:\n",
        "    print(team.name, team.lastMotivation, \" \",end=\"\")\n",
        "  print()"
      ],
      "metadata": {
        "colab": {
          "base_uri": "https://localhost:8080/"
        },
        "id": "65IabWHqRfbX",
        "outputId": "dc15cd4b-8190-48f0-ad06-843c052e84ff"
      },
      "execution_count": 134,
      "outputs": [
        {
          "output_type": "stream",
          "name": "stdout",
          "text": [
            "Group A :HOL 85.29136782901101  SEN 83.86242992743414  CAT 75.57320758089449  EQU 72.5681573707009  \n",
            "Group B :EUA 84.10810330334532  ING 81.0852067777424  GAL 74.56350346440158  IRA 73.51073938825954  \n",
            "Group C :ARG 92.20089011985475  ARA 73.18124759700036  POL 71.32214954917382  MEX 71.13349893995809  \n",
            "Group D :FRA 84.58456659773142  TUN 80.83019166829962  AUS 76.84073579878127  DIN 74.21885574025721  \n",
            "Group E :JAP 82.29807824421896  ESP 80.89049634495447  ALE 80.5671843760072  COS 71.19529814829728  \n",
            "Group F :BEL 89.9062214478071  MAR 82.54623792547163  CAN 77.89482530718853  CRO 71.08406994682382  \n",
            "Group G :SUI 83.63052716103365  BRA 76.96847356512885  CAM 76.06847645215038  SER 72.98155148012391  \n",
            "Group H :GAN 74.7800358407404  COR 73.64969735563263  URU 72.36315298344294  POR 72.3097422639019  \n"
          ]
        }
      ]
    },
    {
      "cell_type": "markdown",
      "source": [
        "## 4 - Round of 16"
      ],
      "metadata": {
        "id": "NDcAWzblWkoy"
      }
    },
    {
      "cell_type": "code",
      "source": [
        "team1A = bestTeamsByGroup['A'][0]\n",
        "team2A = bestTeamsByGroup['A'][1]\n",
        "team1B = bestTeamsByGroup['B'][0]\n",
        "team2B = bestTeamsByGroup['B'][1]\n",
        "team1C = bestTeamsByGroup['C'][0]\n",
        "team2C = bestTeamsByGroup['C'][1]\n",
        "team1D = bestTeamsByGroup['D'][0]\n",
        "team2D = bestTeamsByGroup['D'][1]\n",
        "team1E = bestTeamsByGroup['E'][0]\n",
        "team2E = bestTeamsByGroup['E'][1]\n",
        "team1F = bestTeamsByGroup['F'][0]\n",
        "team2F = bestTeamsByGroup['F'][1]\n",
        "team1G = bestTeamsByGroup['G'][0]\n",
        "team2G = bestTeamsByGroup['G'][1]\n",
        "team1H = bestTeamsByGroup['H'][0]\n",
        "team2H = bestTeamsByGroup['H'][1]\n",
        "\n",
        "\n",
        "quarter1 = team1A if team1A.motivate() > team2B.motivate() else team2B\n",
        "quarter2 = team1C if team1C.motivate() > team2D.motivate() else team2D\n",
        "quarter3 = team1E if team1E.motivate() > team2F.motivate() else team2F\n",
        "quarter4 = team1G if team1G.motivate() > team2H.motivate() else team2H\n",
        "quarter5 = team1B if team1B.motivate() > team2A.motivate() else team2A\n",
        "quarter6 = team1D if team1D.motivate() > team2C.motivate() else team2C\n",
        "quarter7 = team1F if team1F.motivate() > team2E.motivate() else team2E\n",
        "quarter8 = team1H if team1H.motivate() > team2G.motivate() else team2G\n",
        "\n",
        "\n",
        "Team.result(team1A, team2B)\n",
        "print(f'{team1A.name} ({team1A.lastMotivation:.2f}) x {team2B.name} ({team2B.lastMotivation:.2f})\\n')\n",
        "\n",
        "Team.result(team1C, team2D)\n",
        "print(f'{team1C.name} ({team1C.lastMotivation:.2f}) x {team2D.name} ({team2D.lastMotivation:.2f})\\n')\n",
        "\n",
        "Team.result(team1E, team2F)\n",
        "print(f'{team1E.name} ({team1E.lastMotivation:.2f}) x {team2F.name} ({team2F.lastMotivation:.2f})\\n')\n",
        "\n",
        "Team.result(team1G, team2H)\n",
        "print(f'{team1G.name} ({team1G.lastMotivation:.2f}) x {team2H.name} ({team2H.lastMotivation:.2f})\\n')\n",
        "\n",
        "Team.result(team1B, team2A)\n",
        "print(f'{team1B.name} ({team1B.lastMotivation:.2f}) x {team2A.name} ({team2A.lastMotivation:.2f})\\n')\n",
        "\n",
        "Team.result(team1D, team2C)\n",
        "print(f'{team1D.name} ({team1D.lastMotivation:.2f}) x {team2C.name} ({team2C.lastMotivation:.2f})\\n')\n",
        "\n",
        "Team.result(team1F, team2E)\n",
        "print(f'{team1F.name} ({team1F.lastMotivation:.2f}) x {team2E.name} ({team2E.lastMotivation:.2f})\\n')\n",
        "\n",
        "Team.result(team1H, team2G)\n",
        "print(f'{team1H.name} ({team1H.lastMotivation:.2f}) x {team2G.name} ({team2G.lastMotivation:.2f})\\n')"
      ],
      "metadata": {
        "colab": {
          "base_uri": "https://localhost:8080/"
        },
        "id": "xMlvqie-Ku6f",
        "outputId": "19d2fb3c-c1e7-454c-e3c0-96645c0e97c0"
      },
      "execution_count": 135,
      "outputs": [
        {
          "output_type": "stream",
          "name": "stdout",
          "text": [
            "HOL 3 X 0 ING\n",
            "HOL (79.98) x ING (73.76)\n",
            "\n",
            "ARG 1 X 0 TUN\n",
            "ARG (90.86) x TUN (80.36)\n",
            "\n",
            "JAP 1 X 0 MAR\n",
            "JAP (83.59) x MAR (76.78)\n",
            "\n",
            "SUI 1 X 0 COR\n",
            "SUI (85.19) x COR (78.03)\n",
            "\n",
            "EUA 2 X 1 SEN\n",
            "EUA (83.63) x SEN (70.99)\n",
            "\n",
            "ARA 1 X  0 FRA\n",
            "FRA (71.16) x ARA (74.29)\n",
            "\n",
            "BEL 4 X 2 ESP\n",
            "BEL (95.33) x ESP (84.64)\n",
            "\n",
            "BRA 4 X  0 GAN\n",
            "GAN (74.14) x BRA (76.56)\n",
            "\n"
          ]
        }
      ]
    },
    {
      "cell_type": "markdown",
      "source": [
        "## 5 - Quarterfinals"
      ],
      "metadata": {
        "id": "CxeTXnSbW3TQ"
      }
    },
    {
      "cell_type": "code",
      "source": [
        "semi1 = quarter1 if quarter1.motivate() > quarter2.motivate() else quarter2\n",
        "semi2 = quarter3 if quarter3.motivate() > quarter4.motivate() else quarter4\n",
        "semi3 = quarter5 if quarter5.motivate() > quarter6.motivate() else quarter6\n",
        "semi4 = quarter7 if quarter7.motivate() > quarter8.motivate() else quarter8\n",
        "\n",
        "\n",
        "Team.result(quarter1, quarter2)\n",
        "print(f'{quarter1.name} ({quarter1.lastMotivation:.2f}) x {quarter2.name} ({quarter2.lastMotivation:.2f})\\n')\n",
        "\n",
        "Team.result(quarter3, quarter4)\n",
        "print(f'{quarter3.name} ({quarter3.lastMotivation:.2f}) x {quarter4.name} ({quarter4.lastMotivation:.2f})\\n')\n",
        "\n",
        "Team.result(quarter5, quarter6)\n",
        "print(f'{quarter5.name} ({quarter5.lastMotivation:.2f}) x {quarter6.name} ({quarter6.lastMotivation:.2f})\\n')\n",
        "\n",
        "Team.result(quarter7, quarter8)\n",
        "print(f'{quarter7.name} ({quarter7.lastMotivation:.2f}) x {quarter8.name} ({quarter8.lastMotivation:.2f})\\n')"
      ],
      "metadata": {
        "colab": {
          "base_uri": "https://localhost:8080/"
        },
        "id": "7PHen0v3oTS-",
        "outputId": "2763d36e-eda0-4e87-e3eb-ada45b51cc8b"
      },
      "execution_count": 136,
      "outputs": [
        {
          "output_type": "stream",
          "name": "stdout",
          "text": [
            "ARG 4 X  0 HOL\n",
            "HOL (90.47) x ARG (93.33)\n",
            "\n",
            "JAP 4 X 3 SUI\n",
            "JAP (83.59) x SUI (80.57)\n",
            "\n",
            "EUA 3 X 2 ARA\n",
            "EUA (88.95) x ARA (77.14)\n",
            "\n",
            "BRA 3 X  0 BEL\n",
            "BEL (76.20) x BRA (95.40)\n",
            "\n"
          ]
        }
      ]
    },
    {
      "cell_type": "markdown",
      "source": [
        "## 6- Semifinals"
      ],
      "metadata": {
        "id": "F_5ZpvDlXIqI"
      }
    },
    {
      "cell_type": "code",
      "source": [
        "final1 = semi1 if semi1.motivate() > semi2.motivate() else semi2\n",
        "third1 = semi1 if semi1.lastMotivation < semi2.lastMotivation else semi2\n",
        "\n",
        "final2 = semi3 if semi3.motivate() > semi4.motivate() else semi4\n",
        "third2 = semi3 if semi3.lastMotivation < semi4.lastMotivation else semi4\n",
        "\n",
        "\n",
        "Team.result(semi1, semi2) \n",
        "print(f'{semi1.name} ({semi1.lastMotivation:.2f}) x {semi2.name} ({semi2.lastMotivation:.2f})\\n')\n",
        "\n",
        "Team.result(semi3, semi4) \n",
        "print(f'{semi3.name} ({semi3.lastMotivation:.2f}) x {semi4.name} ({semi4.lastMotivation:.2f})')"
      ],
      "metadata": {
        "colab": {
          "base_uri": "https://localhost:8080/"
        },
        "id": "Y2cW-FLQzccD",
        "outputId": "cb76c03a-eae1-4fdc-c663-79ee6c5be134"
      },
      "execution_count": 137,
      "outputs": [
        {
          "output_type": "stream",
          "name": "stdout",
          "text": [
            "ARG 3 X 2 JAP\n",
            "ARG (90.24) x JAP (73.81)\n",
            "\n",
            "BRA 2 X  1 EUA\n",
            "EUA (75.75) x BRA (89.35)\n"
          ]
        }
      ]
    },
    {
      "cell_type": "markdown",
      "source": [
        "## 8 - Champions"
      ],
      "metadata": {
        "id": "PpAA_QZ9Xyzo"
      }
    },
    {
      "cell_type": "code",
      "source": [
        "finalPlace1 = final1 if final1.motivate() > final2.motivate() else final2\n",
        "finalPlace2 = final1 if final1.lastMotivation < final2.lastMotivation else final2\n",
        "thirdPlace1 = third1 if third1.motivate() > third2.motivate() else third2\n",
        "thirdPlace2 = third1 if third1.lastMotivation < third2.lastMotivation else third2\n",
        "\n",
        "\n",
        "Team.result(final1, final2) \n",
        "if finalPlace1.lastMotivation > finalPlace2.lastMotivation:\n",
        "  print(f'1º: {finalPlace1.name} ({finalPlace1.lastMotivation:.2f})')\n",
        "  print(f'2º: {finalPlace2.name} ({finalPlace2.lastMotivation:.2f})\\n')\n",
        "else:\n",
        "  print(f'1º: {finalPlace2.name} ({finalPlace2.lastMotivation:.2f})')\n",
        "  print(f'2º: {finalPlace1.name} ({finalPlace1.lastMotivation:.2f})\\n')\n",
        "\n",
        "\n",
        "Team.result(third1, third2) \n",
        "if thirdPlace1.lastMotivation > thirdPlace2.lastMotivation:\n",
        "  print(f'3º: {thirdPlace1.name} ({thirdPlace1.lastMotivation:.2f})')\n",
        "  print(f'4º: {thirdPlace2.name} ({thirdPlace2.lastMotivation:.2f})\\n')\n",
        "else:\n",
        "  print(f'3º: {thirdPlace2.name} ({thirdPlace2.lastMotivation:.2f})')\n",
        "  print(f'4º: {thirdPlace1.name} ({thirdPlace1.lastMotivation:.2f})\\n')"
      ],
      "metadata": {
        "colab": {
          "base_uri": "https://localhost:8080/"
        },
        "id": "38_Hr2NOXyIp",
        "outputId": "e4d50e3c-7caa-4af3-bb6b-6215d32f7aa7"
      },
      "execution_count": 138,
      "outputs": [
        {
          "output_type": "stream",
          "name": "stdout",
          "text": [
            "BRA 4 X  1 ARG\n",
            "1º: BRA (83.48)\n",
            "2º: ARG (80.15)\n",
            "\n",
            "EUA 4 X  0 JAP\n",
            "3º: EUA (88.44)\n",
            "4º: JAP (70.76)\n",
            "\n"
          ]
        }
      ]
    }
  ]
}